{
 "cells": [
  {
   "cell_type": "code",
   "execution_count": 1,
   "id": "1efb74c6-5b11-4ebe-9c3e-4a9882d24268",
   "metadata": {},
   "outputs": [
    {
     "ename": "FileNotFoundError",
     "evalue": "The system cannot find the file specified. (os error 2): data.csv",
     "output_type": "error",
     "traceback": [
      "\u001b[1;31m---------------------------------------------------------------------------\u001b[0m",
      "\u001b[1;31mFileNotFoundError\u001b[0m                         Traceback (most recent call last)",
      "Cell \u001b[1;32mIn[1], line 4\u001b[0m\n\u001b[0;32m      1\u001b[0m \u001b[38;5;28;01mimport\u001b[39;00m \u001b[38;5;21;01mpolars\u001b[39;00m \u001b[38;5;28;01mas\u001b[39;00m \u001b[38;5;21;01mpl\u001b[39;00m\n\u001b[0;32m      3\u001b[0m \u001b[38;5;66;03m# Load data from a CSV file\u001b[39;00m\n\u001b[1;32m----> 4\u001b[0m df \u001b[38;5;241m=\u001b[39m pl\u001b[38;5;241m.\u001b[39mread_csv(\u001b[38;5;124m'\u001b[39m\u001b[38;5;124mdata.csv\u001b[39m\u001b[38;5;124m'\u001b[39m)\n\u001b[0;32m      6\u001b[0m \u001b[38;5;66;03m# Display the first few rows of the DataFrame\u001b[39;00m\n\u001b[0;32m      7\u001b[0m \u001b[38;5;28mprint\u001b[39m(\u001b[38;5;124m\"\u001b[39m\u001b[38;5;124mInitial Data:\u001b[39m\u001b[38;5;124m\"\u001b[39m)\n",
      "File \u001b[1;32mC:\\app\\AppData\\Lib\\site-packages\\polars\\_utils\\deprecation.py:119\u001b[0m, in \u001b[0;36mdeprecate_renamed_parameter.<locals>.decorate.<locals>.wrapper\u001b[1;34m(*args, **kwargs)\u001b[0m\n\u001b[0;32m    114\u001b[0m \u001b[38;5;129m@wraps\u001b[39m(function)\n\u001b[0;32m    115\u001b[0m \u001b[38;5;28;01mdef\u001b[39;00m \u001b[38;5;21mwrapper\u001b[39m(\u001b[38;5;241m*\u001b[39margs: P\u001b[38;5;241m.\u001b[39margs, \u001b[38;5;241m*\u001b[39m\u001b[38;5;241m*\u001b[39mkwargs: P\u001b[38;5;241m.\u001b[39mkwargs) \u001b[38;5;241m-\u001b[39m\u001b[38;5;241m>\u001b[39m T:\n\u001b[0;32m    116\u001b[0m     _rename_keyword_argument(\n\u001b[0;32m    117\u001b[0m         old_name, new_name, kwargs, function\u001b[38;5;241m.\u001b[39m\u001b[38;5;18m__qualname__\u001b[39m, version\n\u001b[0;32m    118\u001b[0m     )\n\u001b[1;32m--> 119\u001b[0m     \u001b[38;5;28;01mreturn\u001b[39;00m function(\u001b[38;5;241m*\u001b[39margs, \u001b[38;5;241m*\u001b[39m\u001b[38;5;241m*\u001b[39mkwargs)\n",
      "File \u001b[1;32mC:\\app\\AppData\\Lib\\site-packages\\polars\\_utils\\deprecation.py:119\u001b[0m, in \u001b[0;36mdeprecate_renamed_parameter.<locals>.decorate.<locals>.wrapper\u001b[1;34m(*args, **kwargs)\u001b[0m\n\u001b[0;32m    114\u001b[0m \u001b[38;5;129m@wraps\u001b[39m(function)\n\u001b[0;32m    115\u001b[0m \u001b[38;5;28;01mdef\u001b[39;00m \u001b[38;5;21mwrapper\u001b[39m(\u001b[38;5;241m*\u001b[39margs: P\u001b[38;5;241m.\u001b[39margs, \u001b[38;5;241m*\u001b[39m\u001b[38;5;241m*\u001b[39mkwargs: P\u001b[38;5;241m.\u001b[39mkwargs) \u001b[38;5;241m-\u001b[39m\u001b[38;5;241m>\u001b[39m T:\n\u001b[0;32m    116\u001b[0m     _rename_keyword_argument(\n\u001b[0;32m    117\u001b[0m         old_name, new_name, kwargs, function\u001b[38;5;241m.\u001b[39m\u001b[38;5;18m__qualname__\u001b[39m, version\n\u001b[0;32m    118\u001b[0m     )\n\u001b[1;32m--> 119\u001b[0m     \u001b[38;5;28;01mreturn\u001b[39;00m function(\u001b[38;5;241m*\u001b[39margs, \u001b[38;5;241m*\u001b[39m\u001b[38;5;241m*\u001b[39mkwargs)\n",
      "File \u001b[1;32mC:\\app\\AppData\\Lib\\site-packages\\polars\\_utils\\deprecation.py:119\u001b[0m, in \u001b[0;36mdeprecate_renamed_parameter.<locals>.decorate.<locals>.wrapper\u001b[1;34m(*args, **kwargs)\u001b[0m\n\u001b[0;32m    114\u001b[0m \u001b[38;5;129m@wraps\u001b[39m(function)\n\u001b[0;32m    115\u001b[0m \u001b[38;5;28;01mdef\u001b[39;00m \u001b[38;5;21mwrapper\u001b[39m(\u001b[38;5;241m*\u001b[39margs: P\u001b[38;5;241m.\u001b[39margs, \u001b[38;5;241m*\u001b[39m\u001b[38;5;241m*\u001b[39mkwargs: P\u001b[38;5;241m.\u001b[39mkwargs) \u001b[38;5;241m-\u001b[39m\u001b[38;5;241m>\u001b[39m T:\n\u001b[0;32m    116\u001b[0m     _rename_keyword_argument(\n\u001b[0;32m    117\u001b[0m         old_name, new_name, kwargs, function\u001b[38;5;241m.\u001b[39m\u001b[38;5;18m__qualname__\u001b[39m, version\n\u001b[0;32m    118\u001b[0m     )\n\u001b[1;32m--> 119\u001b[0m     \u001b[38;5;28;01mreturn\u001b[39;00m function(\u001b[38;5;241m*\u001b[39margs, \u001b[38;5;241m*\u001b[39m\u001b[38;5;241m*\u001b[39mkwargs)\n",
      "File \u001b[1;32mC:\\app\\AppData\\Lib\\site-packages\\polars\\io\\csv\\functions.py:539\u001b[0m, in \u001b[0;36mread_csv\u001b[1;34m(source, has_header, columns, new_columns, separator, comment_prefix, quote_char, skip_rows, skip_lines, schema, schema_overrides, null_values, missing_utf8_is_empty_string, ignore_errors, try_parse_dates, n_threads, infer_schema, infer_schema_length, batch_size, n_rows, encoding, low_memory, rechunk, use_pyarrow, storage_options, skip_rows_after_header, row_index_name, row_index_offset, sample_size, eol_char, raise_if_empty, truncate_ragged_lines, decimal_comma, glob)\u001b[0m\n\u001b[0;32m    531\u001b[0m \u001b[38;5;28;01melse\u001b[39;00m:\n\u001b[0;32m    532\u001b[0m     \u001b[38;5;28;01mwith\u001b[39;00m prepare_file_arg(\n\u001b[0;32m    533\u001b[0m         source,\n\u001b[0;32m    534\u001b[0m         encoding\u001b[38;5;241m=\u001b[39mencoding,\n\u001b[1;32m   (...)\u001b[0m\n\u001b[0;32m    537\u001b[0m         storage_options\u001b[38;5;241m=\u001b[39mstorage_options,\n\u001b[0;32m    538\u001b[0m     ) \u001b[38;5;28;01mas\u001b[39;00m data:\n\u001b[1;32m--> 539\u001b[0m         df \u001b[38;5;241m=\u001b[39m _read_csv_impl(\n\u001b[0;32m    540\u001b[0m             data,\n\u001b[0;32m    541\u001b[0m             has_header\u001b[38;5;241m=\u001b[39mhas_header,\n\u001b[0;32m    542\u001b[0m             columns\u001b[38;5;241m=\u001b[39mcolumns \u001b[38;5;28;01mif\u001b[39;00m columns \u001b[38;5;28;01melse\u001b[39;00m projection,\n\u001b[0;32m    543\u001b[0m             separator\u001b[38;5;241m=\u001b[39mseparator,\n\u001b[0;32m    544\u001b[0m             comment_prefix\u001b[38;5;241m=\u001b[39mcomment_prefix,\n\u001b[0;32m    545\u001b[0m             quote_char\u001b[38;5;241m=\u001b[39mquote_char,\n\u001b[0;32m    546\u001b[0m             skip_rows\u001b[38;5;241m=\u001b[39mskip_rows,\n\u001b[0;32m    547\u001b[0m             skip_lines\u001b[38;5;241m=\u001b[39mskip_lines,\n\u001b[0;32m    548\u001b[0m             schema_overrides\u001b[38;5;241m=\u001b[39mschema_overrides,\n\u001b[0;32m    549\u001b[0m             schema\u001b[38;5;241m=\u001b[39mschema,\n\u001b[0;32m    550\u001b[0m             null_values\u001b[38;5;241m=\u001b[39mnull_values,\n\u001b[0;32m    551\u001b[0m             missing_utf8_is_empty_string\u001b[38;5;241m=\u001b[39mmissing_utf8_is_empty_string,\n\u001b[0;32m    552\u001b[0m             ignore_errors\u001b[38;5;241m=\u001b[39mignore_errors,\n\u001b[0;32m    553\u001b[0m             try_parse_dates\u001b[38;5;241m=\u001b[39mtry_parse_dates,\n\u001b[0;32m    554\u001b[0m             n_threads\u001b[38;5;241m=\u001b[39mn_threads,\n\u001b[0;32m    555\u001b[0m             infer_schema_length\u001b[38;5;241m=\u001b[39minfer_schema_length,\n\u001b[0;32m    556\u001b[0m             batch_size\u001b[38;5;241m=\u001b[39mbatch_size,\n\u001b[0;32m    557\u001b[0m             n_rows\u001b[38;5;241m=\u001b[39mn_rows,\n\u001b[0;32m    558\u001b[0m             encoding\u001b[38;5;241m=\u001b[39mencoding \u001b[38;5;28;01mif\u001b[39;00m encoding \u001b[38;5;241m==\u001b[39m \u001b[38;5;124m\"\u001b[39m\u001b[38;5;124mutf8-lossy\u001b[39m\u001b[38;5;124m\"\u001b[39m \u001b[38;5;28;01melse\u001b[39;00m \u001b[38;5;124m\"\u001b[39m\u001b[38;5;124mutf8\u001b[39m\u001b[38;5;124m\"\u001b[39m,\n\u001b[0;32m    559\u001b[0m             low_memory\u001b[38;5;241m=\u001b[39mlow_memory,\n\u001b[0;32m    560\u001b[0m             rechunk\u001b[38;5;241m=\u001b[39mrechunk,\n\u001b[0;32m    561\u001b[0m             skip_rows_after_header\u001b[38;5;241m=\u001b[39mskip_rows_after_header,\n\u001b[0;32m    562\u001b[0m             row_index_name\u001b[38;5;241m=\u001b[39mrow_index_name,\n\u001b[0;32m    563\u001b[0m             row_index_offset\u001b[38;5;241m=\u001b[39mrow_index_offset,\n\u001b[0;32m    564\u001b[0m             eol_char\u001b[38;5;241m=\u001b[39meol_char,\n\u001b[0;32m    565\u001b[0m             raise_if_empty\u001b[38;5;241m=\u001b[39mraise_if_empty,\n\u001b[0;32m    566\u001b[0m             truncate_ragged_lines\u001b[38;5;241m=\u001b[39mtruncate_ragged_lines,\n\u001b[0;32m    567\u001b[0m             decimal_comma\u001b[38;5;241m=\u001b[39mdecimal_comma,\n\u001b[0;32m    568\u001b[0m             glob\u001b[38;5;241m=\u001b[39mglob,\n\u001b[0;32m    569\u001b[0m         )\n\u001b[0;32m    571\u001b[0m \u001b[38;5;28;01mif\u001b[39;00m new_columns:\n\u001b[0;32m    572\u001b[0m     \u001b[38;5;28;01mreturn\u001b[39;00m _update_columns(df, new_columns)\n",
      "File \u001b[1;32mC:\\app\\AppData\\Lib\\site-packages\\polars\\io\\csv\\functions.py:687\u001b[0m, in \u001b[0;36m_read_csv_impl\u001b[1;34m(source, has_header, columns, separator, comment_prefix, quote_char, skip_rows, skip_lines, schema, schema_overrides, null_values, missing_utf8_is_empty_string, ignore_errors, try_parse_dates, n_threads, infer_schema_length, batch_size, n_rows, encoding, low_memory, rechunk, skip_rows_after_header, row_index_name, row_index_offset, sample_size, eol_char, raise_if_empty, truncate_ragged_lines, decimal_comma, glob)\u001b[0m\n\u001b[0;32m    683\u001b[0m         \u001b[38;5;28;01mraise\u001b[39;00m \u001b[38;5;167;01mValueError\u001b[39;00m(msg)\n\u001b[0;32m    685\u001b[0m projection, columns \u001b[38;5;241m=\u001b[39m parse_columns_arg(columns)\n\u001b[1;32m--> 687\u001b[0m pydf \u001b[38;5;241m=\u001b[39m PyDataFrame\u001b[38;5;241m.\u001b[39mread_csv(\n\u001b[0;32m    688\u001b[0m     source,\n\u001b[0;32m    689\u001b[0m     infer_schema_length,\n\u001b[0;32m    690\u001b[0m     batch_size,\n\u001b[0;32m    691\u001b[0m     has_header,\n\u001b[0;32m    692\u001b[0m     ignore_errors,\n\u001b[0;32m    693\u001b[0m     n_rows,\n\u001b[0;32m    694\u001b[0m     skip_rows,\n\u001b[0;32m    695\u001b[0m     skip_lines,\n\u001b[0;32m    696\u001b[0m     projection,\n\u001b[0;32m    697\u001b[0m     separator,\n\u001b[0;32m    698\u001b[0m     rechunk,\n\u001b[0;32m    699\u001b[0m     columns,\n\u001b[0;32m    700\u001b[0m     encoding,\n\u001b[0;32m    701\u001b[0m     n_threads,\n\u001b[0;32m    702\u001b[0m     path,\n\u001b[0;32m    703\u001b[0m     dtype_list,\n\u001b[0;32m    704\u001b[0m     dtype_slice,\n\u001b[0;32m    705\u001b[0m     low_memory,\n\u001b[0;32m    706\u001b[0m     comment_prefix,\n\u001b[0;32m    707\u001b[0m     quote_char,\n\u001b[0;32m    708\u001b[0m     processed_null_values,\n\u001b[0;32m    709\u001b[0m     missing_utf8_is_empty_string,\n\u001b[0;32m    710\u001b[0m     try_parse_dates,\n\u001b[0;32m    711\u001b[0m     skip_rows_after_header,\n\u001b[0;32m    712\u001b[0m     parse_row_index_args(row_index_name, row_index_offset),\n\u001b[0;32m    713\u001b[0m     eol_char\u001b[38;5;241m=\u001b[39meol_char,\n\u001b[0;32m    714\u001b[0m     raise_if_empty\u001b[38;5;241m=\u001b[39mraise_if_empty,\n\u001b[0;32m    715\u001b[0m     truncate_ragged_lines\u001b[38;5;241m=\u001b[39mtruncate_ragged_lines,\n\u001b[0;32m    716\u001b[0m     decimal_comma\u001b[38;5;241m=\u001b[39mdecimal_comma,\n\u001b[0;32m    717\u001b[0m     schema\u001b[38;5;241m=\u001b[39mschema,\n\u001b[0;32m    718\u001b[0m )\n\u001b[0;32m    719\u001b[0m \u001b[38;5;28;01mreturn\u001b[39;00m wrap_df(pydf)\n",
      "\u001b[1;31mFileNotFoundError\u001b[0m: The system cannot find the file specified. (os error 2): data.csv"
     ]
    }
   ],
   "source": [
    "import polars as pl\n",
    "\n",
    "# Load data from a CSV file\n",
    "df = pl.read_csv('data.csv')\n",
    "\n",
    "# Display the first few rows of the DataFrame\n",
    "print(\"Initial Data:\")\n",
    "print(df.head())"
   ]
  },
  {
   "cell_type": "code",
   "execution_count": 4,
   "id": "0f7709cb-ffcb-43dc-8dee-9507da7bae1e",
   "metadata": {},
   "outputs": [
    {
     "data": {
      "text/html": [
       "<div><style>\n",
       ".dataframe > thead > tr,\n",
       ".dataframe > tbody > tr {\n",
       "  text-align: right;\n",
       "  white-space: pre-wrap;\n",
       "}\n",
       "</style>\n",
       "<small>shape: (5_000, 3)</small><table border=\"1\" class=\"dataframe\"><thead><tr><th>sqft</th><th>year</th><th>building_type</th></tr><tr><td>f64</td><td>i64</td><td>str</td></tr></thead><tbody><tr><td>707.529256</td><td>1996</td><td>&quot;C&quot;</td></tr><tr><td>1025.203348</td><td>2020</td><td>&quot;C&quot;</td></tr><tr><td>568.548657</td><td>2012</td><td>&quot;A&quot;</td></tr><tr><td>895.109864</td><td>2000</td><td>&quot;A&quot;</td></tr><tr><td>206.532754</td><td>2011</td><td>&quot;A&quot;</td></tr><tr><td>&hellip;</td><td>&hellip;</td><td>&hellip;</td></tr><tr><td>710.435755</td><td>2003</td><td>&quot;C&quot;</td></tr><tr><td>408.872783</td><td>2009</td><td>&quot;C&quot;</td></tr><tr><td>57.562059</td><td>2019</td><td>&quot;C&quot;</td></tr><tr><td>3728.088949</td><td>2020</td><td>&quot;C&quot;</td></tr><tr><td>686.678345</td><td>2011</td><td>&quot;C&quot;</td></tr></tbody></table></div>"
      ],
      "text/plain": [
       "shape: (5_000, 3)\n",
       "┌─────────────┬──────┬───────────────┐\n",
       "│ sqft        ┆ year ┆ building_type │\n",
       "│ ---         ┆ ---  ┆ ---           │\n",
       "│ f64         ┆ i64  ┆ str           │\n",
       "╞═════════════╪══════╪═══════════════╡\n",
       "│ 707.529256  ┆ 1996 ┆ C             │\n",
       "│ 1025.203348 ┆ 2020 ┆ C             │\n",
       "│ 568.548657  ┆ 2012 ┆ A             │\n",
       "│ 895.109864  ┆ 2000 ┆ A             │\n",
       "│ 206.532754  ┆ 2011 ┆ A             │\n",
       "│ …           ┆ …    ┆ …             │\n",
       "│ 710.435755  ┆ 2003 ┆ C             │\n",
       "│ 408.872783  ┆ 2009 ┆ C             │\n",
       "│ 57.562059   ┆ 2019 ┆ C             │\n",
       "│ 3728.088949 ┆ 2020 ┆ C             │\n",
       "│ 686.678345  ┆ 2011 ┆ C             │\n",
       "└─────────────┴──────┴───────────────┘"
      ]
     },
     "execution_count": 4,
     "metadata": {},
     "output_type": "execute_result"
    }
   ],
   "source": [
    "import numpy as np\n",
    "num_rows = 5000\n",
    "rng = np.random.default_rng(seed=7)\n",
    "\n",
    "buildings_data = {\n",
    "    \"sqft\": rng.exponential(scale=1000, size=num_rows),\n",
    "    \"year\": rng.integers(low=1995, high=2023, size=num_rows),\n",
    "    \"building_type\": rng.choice([\"A\", \"B\", \"C\"], size=num_rows),\n",
    "}\n",
    "buildings = pl.DataFrame(buildings_data)\n",
    "buildings"
   ]
  },
  {
   "cell_type": "code",
   "execution_count": null,
   "id": "9e6bad23-71e5-4e94-902d-86d37e69639a",
   "metadata": {},
   "outputs": [],
   "source": [
    "# Filtering data: Select rows where the age is greater than 30\n",
    "filtered_df = df.filter(pl.col('age') > 30)"
   ]
  },
  {
   "cell_type": "code",
   "execution_count": null,
   "id": "192a317c-3ffb-4f94-a68b-1eff17dac437",
   "metadata": {},
   "outputs": [],
   "source": [
    "# Display the filtered data\n",
    "print(\"\\nFiltered Data (Age > 30):\")\n",
    "print(filtered_df)\n",
    "\n",
    "# Grouping data: Calculate the average age by some category (assuming there's a 'category' column)\n",
    "grouped_df = df.groupby('category').agg(\n",
    "    average_age=pl.col('age').mean()\n",
    ")\n",
    "\n",
    "# Display the grouped data\n",
    "print(\"\\nGrouped Data (Average Age by Category):\")\n",
    "print(grouped_df)\n",
    "\n",
    "# Sorting data: Sort by age in descending order\n",
    "sorted_df = df.sort('age', reverse=True)\n",
    "\n",
    "# Display the sorted data\n",
    "print(\"\\nSorted Data (by Age):\")\n",
    "print(sorted_df)\n",
    "\n"
   ]
  },
  {
   "cell_type": "code",
   "execution_count": null,
   "id": "d37dfc18-fb17-4809-ae4d-d15c86fd50b3",
   "metadata": {},
   "outputs": [],
   "source": []
  },
  {
   "cell_type": "code",
   "execution_count": null,
   "id": "a75b8b6f-f541-4109-81ea-fdc6e36611d5",
   "metadata": {},
   "outputs": [],
   "source": []
  }
 ],
 "metadata": {
  "kernelspec": {
   "display_name": "Python 3 (ipykernel)",
   "language": "python",
   "name": "python3"
  },
  "language_info": {
   "codemirror_mode": {
    "name": "ipython",
    "version": 3
   },
   "file_extension": ".py",
   "mimetype": "text/x-python",
   "name": "python",
   "nbconvert_exporter": "python",
   "pygments_lexer": "ipython3",
   "version": "3.12.7"
  }
 },
 "nbformat": 4,
 "nbformat_minor": 5
}
