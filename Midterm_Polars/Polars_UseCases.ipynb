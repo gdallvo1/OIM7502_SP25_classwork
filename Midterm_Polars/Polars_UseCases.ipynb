{
 "cells": [
  {
   "cell_type": "code",
   "execution_count": null,
   "id": "1efb74c6-5b11-4ebe-9c3e-4a9882d24268",
   "metadata": {},
   "outputs": [],
   "source": [
    "import polars as pl\n",
    "\n",
    "# Load data from a CSV file\n",
    "df = pl.read_csv('data.csv')\n",
    "\n",
    "# Display the first few rows of the DataFrame\n",
    "print(\"Initial Data:\")\n",
    "print(df.head())\n",
    "\n",
    "# Filtering data: Select rows where the age is greater than 30\n",
    "filtered_df = df.filter(pl.col('age') > 30)\n",
    "\n",
    "# Display the filtered data\n",
    "print(\"\\nFiltered Data (Age > 30):\")\n",
    "print(filtered_df)\n",
    "\n",
    "# Grouping data: Calculate the average age by some category (assuming there's a 'category' column)\n",
    "grouped_df = df.groupby('category').agg(\n",
    "    average_age=pl.col('age').mean()\n",
    ")\n",
    "\n",
    "# Display the grouped data\n",
    "print(\"\\nGrouped Data (Average Age by Category):\")\n",
    "print(grouped_df)\n",
    "\n",
    "# Sorting data: Sort by age in descending order\n",
    "sorted_df = df.sort('age', reverse=True)\n",
    "\n",
    "# Display the sorted data\n",
    "print(\"\\nSorted Data (by Age):\")\n",
    "print(sorted_df)"
   ]
  }
 ],
 "metadata": {
  "kernelspec": {
   "display_name": "Python 3 (ipykernel)",
   "language": "python",
   "name": "python3"
  },
  "language_info": {
   "codemirror_mode": {
    "name": "ipython",
    "version": 3
   },
   "file_extension": ".py",
   "mimetype": "text/x-python",
   "name": "python",
   "nbconvert_exporter": "python",
   "pygments_lexer": "ipython3",
   "version": "3.12.7"
  }
 },
 "nbformat": 4,
 "nbformat_minor": 5
}
