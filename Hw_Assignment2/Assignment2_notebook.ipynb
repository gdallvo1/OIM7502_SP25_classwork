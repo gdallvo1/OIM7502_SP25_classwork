{
 "cells": [
  {
   "cell_type": "code",
   "execution_count": 13,
   "id": "d4b45430-e911-49af-a4fc-8e0c77b84f1c",
   "metadata": {},
   "outputs": [],
   "source": [
    "# Import necessary Python libraries\n",
    "import numpy as np\n",
    "import pandas as pd\n",
    "import matplotlib.pyplot as plt\n",
    "\n",
    "# Q1 - Read in csv file and store into a dataframe called df\n",
    "df = pd.read_csv(\"wage.csv\", sep=',')\n"
   ]
  },
  {
   "cell_type": "code",
   "execution_count": 14,
   "id": "25049f43-aa27-4fb1-b0d6-11d362482ba8",
   "metadata": {},
   "outputs": [
    {
     "name": "stdout",
     "output_type": "stream",
     "text": [
      "First 10 rows:\n"
     ]
    },
    {
     "data": {
      "text/html": [
       "<div>\n",
       "<style scoped>\n",
       "    .dataframe tbody tr th:only-of-type {\n",
       "        vertical-align: middle;\n",
       "    }\n",
       "\n",
       "    .dataframe tbody tr th {\n",
       "        vertical-align: top;\n",
       "    }\n",
       "\n",
       "    .dataframe thead th {\n",
       "        text-align: right;\n",
       "    }\n",
       "</style>\n",
       "<table border=\"1\" class=\"dataframe\">\n",
       "  <thead>\n",
       "    <tr style=\"text-align: right;\">\n",
       "      <th></th>\n",
       "      <th>year</th>\n",
       "      <th>age</th>\n",
       "      <th>maritl</th>\n",
       "      <th>race</th>\n",
       "      <th>education</th>\n",
       "      <th>region</th>\n",
       "      <th>jobclass</th>\n",
       "      <th>health</th>\n",
       "      <th>health_ins</th>\n",
       "      <th>logwage</th>\n",
       "      <th>wage</th>\n",
       "    </tr>\n",
       "  </thead>\n",
       "  <tbody>\n",
       "    <tr>\n",
       "      <th>0</th>\n",
       "      <td>2006</td>\n",
       "      <td>18</td>\n",
       "      <td>1. Never Married</td>\n",
       "      <td>1. White</td>\n",
       "      <td>1. &lt; HS Grad</td>\n",
       "      <td>2. Middle Atlantic</td>\n",
       "      <td>1. Industrial</td>\n",
       "      <td>1. &lt;=Good</td>\n",
       "      <td>2. No</td>\n",
       "      <td>4.318063</td>\n",
       "      <td>75.043154</td>\n",
       "    </tr>\n",
       "    <tr>\n",
       "      <th>1</th>\n",
       "      <td>2004</td>\n",
       "      <td>24</td>\n",
       "      <td>1. Never Married</td>\n",
       "      <td>1. White</td>\n",
       "      <td>4. College Grad</td>\n",
       "      <td>2. Middle Atlantic</td>\n",
       "      <td>2. Information</td>\n",
       "      <td>2. &gt;=Very Good</td>\n",
       "      <td>2. No</td>\n",
       "      <td>4.255273</td>\n",
       "      <td>70.476020</td>\n",
       "    </tr>\n",
       "    <tr>\n",
       "      <th>2</th>\n",
       "      <td>2003</td>\n",
       "      <td>45</td>\n",
       "      <td>2. Married</td>\n",
       "      <td>1. White</td>\n",
       "      <td>3. Some College</td>\n",
       "      <td>2. Middle Atlantic</td>\n",
       "      <td>1. Industrial</td>\n",
       "      <td>1. &lt;=Good</td>\n",
       "      <td>1. Yes</td>\n",
       "      <td>4.875061</td>\n",
       "      <td>130.982177</td>\n",
       "    </tr>\n",
       "    <tr>\n",
       "      <th>3</th>\n",
       "      <td>2003</td>\n",
       "      <td>43</td>\n",
       "      <td>2. Married</td>\n",
       "      <td>3. Asian</td>\n",
       "      <td>4. College Grad</td>\n",
       "      <td>2. Middle Atlantic</td>\n",
       "      <td>2. Information</td>\n",
       "      <td>2. &gt;=Very Good</td>\n",
       "      <td>1. Yes</td>\n",
       "      <td>5.041393</td>\n",
       "      <td>154.685293</td>\n",
       "    </tr>\n",
       "    <tr>\n",
       "      <th>4</th>\n",
       "      <td>2005</td>\n",
       "      <td>50</td>\n",
       "      <td>4. Divorced</td>\n",
       "      <td>1. White</td>\n",
       "      <td>2. HS Grad</td>\n",
       "      <td>2. Middle Atlantic</td>\n",
       "      <td>2. Information</td>\n",
       "      <td>1. &lt;=Good</td>\n",
       "      <td>1. Yes</td>\n",
       "      <td>4.318063</td>\n",
       "      <td>75.043154</td>\n",
       "    </tr>\n",
       "    <tr>\n",
       "      <th>5</th>\n",
       "      <td>2008</td>\n",
       "      <td>54</td>\n",
       "      <td>2. Married</td>\n",
       "      <td>1. White</td>\n",
       "      <td>4. College Grad</td>\n",
       "      <td>2. Middle Atlantic</td>\n",
       "      <td>2. Information</td>\n",
       "      <td>2. &gt;=Very Good</td>\n",
       "      <td>1. Yes</td>\n",
       "      <td>4.845098</td>\n",
       "      <td>127.115744</td>\n",
       "    </tr>\n",
       "    <tr>\n",
       "      <th>6</th>\n",
       "      <td>2009</td>\n",
       "      <td>44</td>\n",
       "      <td>2. Married</td>\n",
       "      <td>4. Other</td>\n",
       "      <td>3. Some College</td>\n",
       "      <td>2. Middle Atlantic</td>\n",
       "      <td>1. Industrial</td>\n",
       "      <td>2. &gt;=Very Good</td>\n",
       "      <td>1. Yes</td>\n",
       "      <td>5.133021</td>\n",
       "      <td>169.528538</td>\n",
       "    </tr>\n",
       "    <tr>\n",
       "      <th>7</th>\n",
       "      <td>2008</td>\n",
       "      <td>30</td>\n",
       "      <td>1. Never Married</td>\n",
       "      <td>3. Asian</td>\n",
       "      <td>3. Some College</td>\n",
       "      <td>2. Middle Atlantic</td>\n",
       "      <td>2. Information</td>\n",
       "      <td>1. &lt;=Good</td>\n",
       "      <td>1. Yes</td>\n",
       "      <td>4.716003</td>\n",
       "      <td>111.720849</td>\n",
       "    </tr>\n",
       "    <tr>\n",
       "      <th>8</th>\n",
       "      <td>2006</td>\n",
       "      <td>41</td>\n",
       "      <td>1. Never Married</td>\n",
       "      <td>2. Black</td>\n",
       "      <td>3. Some College</td>\n",
       "      <td>2. Middle Atlantic</td>\n",
       "      <td>2. Information</td>\n",
       "      <td>2. &gt;=Very Good</td>\n",
       "      <td>1. Yes</td>\n",
       "      <td>4.778151</td>\n",
       "      <td>118.884359</td>\n",
       "    </tr>\n",
       "    <tr>\n",
       "      <th>9</th>\n",
       "      <td>2004</td>\n",
       "      <td>52</td>\n",
       "      <td>2. Married</td>\n",
       "      <td>1. White</td>\n",
       "      <td>2. HS Grad</td>\n",
       "      <td>2. Middle Atlantic</td>\n",
       "      <td>2. Information</td>\n",
       "      <td>2. &gt;=Very Good</td>\n",
       "      <td>1. Yes</td>\n",
       "      <td>4.857332</td>\n",
       "      <td>128.680488</td>\n",
       "    </tr>\n",
       "  </tbody>\n",
       "</table>\n",
       "</div>"
      ],
      "text/plain": [
       "   year  age            maritl      race        education              region  \\\n",
       "0  2006   18  1. Never Married  1. White     1. < HS Grad  2. Middle Atlantic   \n",
       "1  2004   24  1. Never Married  1. White  4. College Grad  2. Middle Atlantic   \n",
       "2  2003   45        2. Married  1. White  3. Some College  2. Middle Atlantic   \n",
       "3  2003   43        2. Married  3. Asian  4. College Grad  2. Middle Atlantic   \n",
       "4  2005   50       4. Divorced  1. White       2. HS Grad  2. Middle Atlantic   \n",
       "5  2008   54        2. Married  1. White  4. College Grad  2. Middle Atlantic   \n",
       "6  2009   44        2. Married  4. Other  3. Some College  2. Middle Atlantic   \n",
       "7  2008   30  1. Never Married  3. Asian  3. Some College  2. Middle Atlantic   \n",
       "8  2006   41  1. Never Married  2. Black  3. Some College  2. Middle Atlantic   \n",
       "9  2004   52        2. Married  1. White       2. HS Grad  2. Middle Atlantic   \n",
       "\n",
       "         jobclass          health health_ins   logwage        wage  \n",
       "0   1. Industrial       1. <=Good      2. No  4.318063   75.043154  \n",
       "1  2. Information  2. >=Very Good      2. No  4.255273   70.476020  \n",
       "2   1. Industrial       1. <=Good     1. Yes  4.875061  130.982177  \n",
       "3  2. Information  2. >=Very Good     1. Yes  5.041393  154.685293  \n",
       "4  2. Information       1. <=Good     1. Yes  4.318063   75.043154  \n",
       "5  2. Information  2. >=Very Good     1. Yes  4.845098  127.115744  \n",
       "6   1. Industrial  2. >=Very Good     1. Yes  5.133021  169.528538  \n",
       "7  2. Information       1. <=Good     1. Yes  4.716003  111.720849  \n",
       "8  2. Information  2. >=Very Good     1. Yes  4.778151  118.884359  \n",
       "9  2. Information  2. >=Very Good     1. Yes  4.857332  128.680488  "
      ]
     },
     "metadata": {},
     "output_type": "display_data"
    },
    {
     "name": "stdout",
     "output_type": "stream",
     "text": [
      "\n",
      "Last 10 rows:\n"
     ]
    },
    {
     "data": {
      "text/html": [
       "<div>\n",
       "<style scoped>\n",
       "    .dataframe tbody tr th:only-of-type {\n",
       "        vertical-align: middle;\n",
       "    }\n",
       "\n",
       "    .dataframe tbody tr th {\n",
       "        vertical-align: top;\n",
       "    }\n",
       "\n",
       "    .dataframe thead th {\n",
       "        text-align: right;\n",
       "    }\n",
       "</style>\n",
       "<table border=\"1\" class=\"dataframe\">\n",
       "  <thead>\n",
       "    <tr style=\"text-align: right;\">\n",
       "      <th></th>\n",
       "      <th>year</th>\n",
       "      <th>age</th>\n",
       "      <th>maritl</th>\n",
       "      <th>race</th>\n",
       "      <th>education</th>\n",
       "      <th>region</th>\n",
       "      <th>jobclass</th>\n",
       "      <th>health</th>\n",
       "      <th>health_ins</th>\n",
       "      <th>logwage</th>\n",
       "      <th>wage</th>\n",
       "    </tr>\n",
       "  </thead>\n",
       "  <tbody>\n",
       "    <tr>\n",
       "      <th>2990</th>\n",
       "      <td>2009</td>\n",
       "      <td>50</td>\n",
       "      <td>2. Married</td>\n",
       "      <td>2. Black</td>\n",
       "      <td>2. HS Grad</td>\n",
       "      <td>2. Middle Atlantic</td>\n",
       "      <td>1. Industrial</td>\n",
       "      <td>2. &gt;=Very Good</td>\n",
       "      <td>2. No</td>\n",
       "      <td>4.886491</td>\n",
       "      <td>132.487821</td>\n",
       "    </tr>\n",
       "    <tr>\n",
       "      <th>2991</th>\n",
       "      <td>2003</td>\n",
       "      <td>26</td>\n",
       "      <td>1. Never Married</td>\n",
       "      <td>2. Black</td>\n",
       "      <td>3. Some College</td>\n",
       "      <td>2. Middle Atlantic</td>\n",
       "      <td>1. Industrial</td>\n",
       "      <td>2. &gt;=Very Good</td>\n",
       "      <td>2. No</td>\n",
       "      <td>4.778151</td>\n",
       "      <td>118.884359</td>\n",
       "    </tr>\n",
       "    <tr>\n",
       "      <th>2992</th>\n",
       "      <td>2007</td>\n",
       "      <td>35</td>\n",
       "      <td>2. Married</td>\n",
       "      <td>1. White</td>\n",
       "      <td>1. &lt; HS Grad</td>\n",
       "      <td>2. Middle Atlantic</td>\n",
       "      <td>1. Industrial</td>\n",
       "      <td>1. &lt;=Good</td>\n",
       "      <td>2. No</td>\n",
       "      <td>4.698970</td>\n",
       "      <td>109.833986</td>\n",
       "    </tr>\n",
       "    <tr>\n",
       "      <th>2993</th>\n",
       "      <td>2006</td>\n",
       "      <td>31</td>\n",
       "      <td>2. Married</td>\n",
       "      <td>1. White</td>\n",
       "      <td>2. HS Grad</td>\n",
       "      <td>2. Middle Atlantic</td>\n",
       "      <td>2. Information</td>\n",
       "      <td>2. &gt;=Very Good</td>\n",
       "      <td>1. Yes</td>\n",
       "      <td>4.633468</td>\n",
       "      <td>102.870247</td>\n",
       "    </tr>\n",
       "    <tr>\n",
       "      <th>2994</th>\n",
       "      <td>2009</td>\n",
       "      <td>31</td>\n",
       "      <td>2. Married</td>\n",
       "      <td>1. White</td>\n",
       "      <td>4. College Grad</td>\n",
       "      <td>2. Middle Atlantic</td>\n",
       "      <td>2. Information</td>\n",
       "      <td>2. &gt;=Very Good</td>\n",
       "      <td>1. Yes</td>\n",
       "      <td>4.893207</td>\n",
       "      <td>133.380608</td>\n",
       "    </tr>\n",
       "    <tr>\n",
       "      <th>2995</th>\n",
       "      <td>2008</td>\n",
       "      <td>44</td>\n",
       "      <td>2. Married</td>\n",
       "      <td>1. White</td>\n",
       "      <td>3. Some College</td>\n",
       "      <td>2. Middle Atlantic</td>\n",
       "      <td>1. Industrial</td>\n",
       "      <td>2. &gt;=Very Good</td>\n",
       "      <td>1. Yes</td>\n",
       "      <td>5.041393</td>\n",
       "      <td>154.685293</td>\n",
       "    </tr>\n",
       "    <tr>\n",
       "      <th>2996</th>\n",
       "      <td>2007</td>\n",
       "      <td>30</td>\n",
       "      <td>2. Married</td>\n",
       "      <td>1. White</td>\n",
       "      <td>2. HS Grad</td>\n",
       "      <td>2. Middle Atlantic</td>\n",
       "      <td>1. Industrial</td>\n",
       "      <td>2. &gt;=Very Good</td>\n",
       "      <td>2. No</td>\n",
       "      <td>4.602060</td>\n",
       "      <td>99.689464</td>\n",
       "    </tr>\n",
       "    <tr>\n",
       "      <th>2997</th>\n",
       "      <td>2005</td>\n",
       "      <td>27</td>\n",
       "      <td>2. Married</td>\n",
       "      <td>2. Black</td>\n",
       "      <td>1. &lt; HS Grad</td>\n",
       "      <td>2. Middle Atlantic</td>\n",
       "      <td>1. Industrial</td>\n",
       "      <td>1. &lt;=Good</td>\n",
       "      <td>2. No</td>\n",
       "      <td>4.193125</td>\n",
       "      <td>66.229408</td>\n",
       "    </tr>\n",
       "    <tr>\n",
       "      <th>2998</th>\n",
       "      <td>2005</td>\n",
       "      <td>27</td>\n",
       "      <td>1. Never Married</td>\n",
       "      <td>1. White</td>\n",
       "      <td>3. Some College</td>\n",
       "      <td>2. Middle Atlantic</td>\n",
       "      <td>1. Industrial</td>\n",
       "      <td>2. &gt;=Very Good</td>\n",
       "      <td>1. Yes</td>\n",
       "      <td>4.477121</td>\n",
       "      <td>87.981033</td>\n",
       "    </tr>\n",
       "    <tr>\n",
       "      <th>2999</th>\n",
       "      <td>2009</td>\n",
       "      <td>55</td>\n",
       "      <td>5. Separated</td>\n",
       "      <td>1. White</td>\n",
       "      <td>2. HS Grad</td>\n",
       "      <td>2. Middle Atlantic</td>\n",
       "      <td>1. Industrial</td>\n",
       "      <td>1. &lt;=Good</td>\n",
       "      <td>1. Yes</td>\n",
       "      <td>4.505150</td>\n",
       "      <td>90.481913</td>\n",
       "    </tr>\n",
       "  </tbody>\n",
       "</table>\n",
       "</div>"
      ],
      "text/plain": [
       "      year  age            maritl      race        education  \\\n",
       "2990  2009   50        2. Married  2. Black       2. HS Grad   \n",
       "2991  2003   26  1. Never Married  2. Black  3. Some College   \n",
       "2992  2007   35        2. Married  1. White     1. < HS Grad   \n",
       "2993  2006   31        2. Married  1. White       2. HS Grad   \n",
       "2994  2009   31        2. Married  1. White  4. College Grad   \n",
       "2995  2008   44        2. Married  1. White  3. Some College   \n",
       "2996  2007   30        2. Married  1. White       2. HS Grad   \n",
       "2997  2005   27        2. Married  2. Black     1. < HS Grad   \n",
       "2998  2005   27  1. Never Married  1. White  3. Some College   \n",
       "2999  2009   55      5. Separated  1. White       2. HS Grad   \n",
       "\n",
       "                  region        jobclass          health health_ins   logwage  \\\n",
       "2990  2. Middle Atlantic   1. Industrial  2. >=Very Good      2. No  4.886491   \n",
       "2991  2. Middle Atlantic   1. Industrial  2. >=Very Good      2. No  4.778151   \n",
       "2992  2. Middle Atlantic   1. Industrial       1. <=Good      2. No  4.698970   \n",
       "2993  2. Middle Atlantic  2. Information  2. >=Very Good     1. Yes  4.633468   \n",
       "2994  2. Middle Atlantic  2. Information  2. >=Very Good     1. Yes  4.893207   \n",
       "2995  2. Middle Atlantic   1. Industrial  2. >=Very Good     1. Yes  5.041393   \n",
       "2996  2. Middle Atlantic   1. Industrial  2. >=Very Good      2. No  4.602060   \n",
       "2997  2. Middle Atlantic   1. Industrial       1. <=Good      2. No  4.193125   \n",
       "2998  2. Middle Atlantic   1. Industrial  2. >=Very Good     1. Yes  4.477121   \n",
       "2999  2. Middle Atlantic   1. Industrial       1. <=Good     1. Yes  4.505150   \n",
       "\n",
       "            wage  \n",
       "2990  132.487821  \n",
       "2991  118.884359  \n",
       "2992  109.833986  \n",
       "2993  102.870247  \n",
       "2994  133.380608  \n",
       "2995  154.685293  \n",
       "2996   99.689464  \n",
       "2997   66.229408  \n",
       "2998   87.981033  \n",
       "2999   90.481913  "
      ]
     },
     "metadata": {},
     "output_type": "display_data"
    },
    {
     "name": "stdout",
     "output_type": "stream",
     "text": [
      "\n",
      "5 random rows:\n"
     ]
    },
    {
     "data": {
      "text/html": [
       "<div>\n",
       "<style scoped>\n",
       "    .dataframe tbody tr th:only-of-type {\n",
       "        vertical-align: middle;\n",
       "    }\n",
       "\n",
       "    .dataframe tbody tr th {\n",
       "        vertical-align: top;\n",
       "    }\n",
       "\n",
       "    .dataframe thead th {\n",
       "        text-align: right;\n",
       "    }\n",
       "</style>\n",
       "<table border=\"1\" class=\"dataframe\">\n",
       "  <thead>\n",
       "    <tr style=\"text-align: right;\">\n",
       "      <th></th>\n",
       "      <th>year</th>\n",
       "      <th>age</th>\n",
       "      <th>maritl</th>\n",
       "      <th>race</th>\n",
       "      <th>education</th>\n",
       "      <th>region</th>\n",
       "      <th>jobclass</th>\n",
       "      <th>health</th>\n",
       "      <th>health_ins</th>\n",
       "      <th>logwage</th>\n",
       "      <th>wage</th>\n",
       "    </tr>\n",
       "  </thead>\n",
       "  <tbody>\n",
       "    <tr>\n",
       "      <th>2547</th>\n",
       "      <td>2005</td>\n",
       "      <td>61</td>\n",
       "      <td>2. Married</td>\n",
       "      <td>1. White</td>\n",
       "      <td>4. College Grad</td>\n",
       "      <td>2. Middle Atlantic</td>\n",
       "      <td>1. Industrial</td>\n",
       "      <td>1. &lt;=Good</td>\n",
       "      <td>1. Yes</td>\n",
       "      <td>4.913814</td>\n",
       "      <td>136.157711</td>\n",
       "    </tr>\n",
       "    <tr>\n",
       "      <th>1424</th>\n",
       "      <td>2005</td>\n",
       "      <td>42</td>\n",
       "      <td>2. Married</td>\n",
       "      <td>1. White</td>\n",
       "      <td>4. College Grad</td>\n",
       "      <td>2. Middle Atlantic</td>\n",
       "      <td>2. Information</td>\n",
       "      <td>2. &gt;=Very Good</td>\n",
       "      <td>2. No</td>\n",
       "      <td>4.812913</td>\n",
       "      <td>123.089700</td>\n",
       "    </tr>\n",
       "    <tr>\n",
       "      <th>1879</th>\n",
       "      <td>2009</td>\n",
       "      <td>32</td>\n",
       "      <td>1. Never Married</td>\n",
       "      <td>1. White</td>\n",
       "      <td>2. HS Grad</td>\n",
       "      <td>2. Middle Atlantic</td>\n",
       "      <td>1. Industrial</td>\n",
       "      <td>2. &gt;=Very Good</td>\n",
       "      <td>1. Yes</td>\n",
       "      <td>4.322219</td>\n",
       "      <td>75.355679</td>\n",
       "    </tr>\n",
       "    <tr>\n",
       "      <th>976</th>\n",
       "      <td>2003</td>\n",
       "      <td>55</td>\n",
       "      <td>2. Married</td>\n",
       "      <td>1. White</td>\n",
       "      <td>4. College Grad</td>\n",
       "      <td>2. Middle Atlantic</td>\n",
       "      <td>1. Industrial</td>\n",
       "      <td>2. &gt;=Very Good</td>\n",
       "      <td>1. Yes</td>\n",
       "      <td>4.960285</td>\n",
       "      <td>142.634473</td>\n",
       "    </tr>\n",
       "    <tr>\n",
       "      <th>1118</th>\n",
       "      <td>2003</td>\n",
       "      <td>49</td>\n",
       "      <td>2. Married</td>\n",
       "      <td>1. White</td>\n",
       "      <td>4. College Grad</td>\n",
       "      <td>2. Middle Atlantic</td>\n",
       "      <td>1. Industrial</td>\n",
       "      <td>2. &gt;=Very Good</td>\n",
       "      <td>1. Yes</td>\n",
       "      <td>4.857332</td>\n",
       "      <td>128.680488</td>\n",
       "    </tr>\n",
       "  </tbody>\n",
       "</table>\n",
       "</div>"
      ],
      "text/plain": [
       "      year  age            maritl      race        education  \\\n",
       "2547  2005   61        2. Married  1. White  4. College Grad   \n",
       "1424  2005   42        2. Married  1. White  4. College Grad   \n",
       "1879  2009   32  1. Never Married  1. White       2. HS Grad   \n",
       "976   2003   55        2. Married  1. White  4. College Grad   \n",
       "1118  2003   49        2. Married  1. White  4. College Grad   \n",
       "\n",
       "                  region        jobclass          health health_ins   logwage  \\\n",
       "2547  2. Middle Atlantic   1. Industrial       1. <=Good     1. Yes  4.913814   \n",
       "1424  2. Middle Atlantic  2. Information  2. >=Very Good      2. No  4.812913   \n",
       "1879  2. Middle Atlantic   1. Industrial  2. >=Very Good     1. Yes  4.322219   \n",
       "976   2. Middle Atlantic   1. Industrial  2. >=Very Good     1. Yes  4.960285   \n",
       "1118  2. Middle Atlantic   1. Industrial  2. >=Very Good     1. Yes  4.857332   \n",
       "\n",
       "            wage  \n",
       "2547  136.157711  \n",
       "1424  123.089700  \n",
       "1879   75.355679  \n",
       "976   142.634473  \n",
       "1118  128.680488  "
      ]
     },
     "metadata": {},
     "output_type": "display_data"
    }
   ],
   "source": [
    "# Q2,Q3 Check that the file was read in correctly\n",
    "# View the first 10 rows\n",
    "print(\"First 10 rows:\")\n",
    "display(df.head(10))\n",
    "\n",
    "# View the last 10 rows\n",
    "print(\"\\n Last 10 rows:\")\n",
    "display(df.tail(10))\n",
    "\n",
    "# View 5 random rows, practicing\n",
    "print(\"\\n 5 random rows:\")\n",
    "display(df.sample(5))\n",
    "\n"
   ]
  },
  {
   "cell_type": "code",
   "execution_count": 15,
   "id": "fec79070-0f96-4827-9f05-7ed633a5da9d",
   "metadata": {},
   "outputs": [
    {
     "name": "stdout",
     "output_type": "stream",
     "text": [
      "The DataFrame has 3000 rows.\n"
     ]
    }
   ],
   "source": [
    "# Q4 - Count all the rows for the data frame\n",
    "num_rows = len(df)\n",
    "print(f\"The DataFrame has {num_rows} rows.\")\n"
   ]
  },
  {
   "cell_type": "code",
   "execution_count": 16,
   "id": "e629fb0d-1321-4b14-8429-3fe52dac155c",
   "metadata": {},
   "outputs": [
    {
     "name": "stdout",
     "output_type": "stream",
     "text": [
      "<class 'pandas.core.frame.DataFrame'>\n",
      "RangeIndex: 3000 entries, 0 to 2999\n",
      "Data columns (total 11 columns):\n",
      " #   Column      Non-Null Count  Dtype  \n",
      "---  ------      --------------  -----  \n",
      " 0   year        3000 non-null   int64  \n",
      " 1   age         3000 non-null   int64  \n",
      " 2   maritl      3000 non-null   object \n",
      " 3   race        3000 non-null   object \n",
      " 4   education   3000 non-null   object \n",
      " 5   region      3000 non-null   object \n",
      " 6   jobclass    3000 non-null   object \n",
      " 7   health      3000 non-null   object \n",
      " 8   health_ins  3000 non-null   object \n",
      " 9   logwage     3000 non-null   float64\n",
      " 10  wage        3000 non-null   float64\n",
      "dtypes: float64(2), int64(2), object(7)\n",
      "memory usage: 257.9+ KB\n",
      "None\n"
     ]
    }
   ],
   "source": [
    "# Q5 Print information about each column in the dataframe\n",
    "print(df.info())"
   ]
  },
  {
   "cell_type": "code",
   "execution_count": 30,
   "id": "3980c0f6-b0ec-4512-8b92-59582c69a9de",
   "metadata": {},
   "outputs": [
    {
     "name": "stdout",
     "output_type": "stream",
     "text": [
      "year    int64\n",
      "age     int64\n",
      "dtype: object\n"
     ]
    }
   ],
   "source": [
    "# Q6 - Select the columns and display their data types\n",
    "column_data_types = df[['year', 'age']].dtypes\n",
    "print(column_data_types)"
   ]
  },
  {
   "cell_type": "code",
   "execution_count": 31,
   "id": "21e6a5cf-0196-46bc-8c15-43cd17716b1b",
   "metadata": {},
   "outputs": [
    {
     "name": "stdout",
     "output_type": "stream",
     "text": [
      "Index(['year', 'age', 'maritl', 'race', 'education', 'region', 'jobclass',\n",
      "       'health', 'health_ins', 'logwage', 'wage'],\n",
      "      dtype='object')\n"
     ]
    }
   ],
   "source": [
    "# Q7 - Get and print the column names\n",
    "column_names = df.columns\n",
    "print(column_names)"
   ]
  },
  {
   "cell_type": "code",
   "execution_count": 32,
   "id": "a136ef39-ce0f-4637-b434-52559cbad05d",
   "metadata": {},
   "outputs": [
    {
     "name": "stdout",
     "output_type": "stream",
     "text": [
      "RangeIndex(start=0, stop=3000, step=1)\n"
     ]
    }
   ],
   "source": [
    "# Q8 - Display the DataFrame's index\n",
    "print(df.index)"
   ]
  },
  {
   "cell_type": "code",
   "execution_count": 33,
   "id": "ed360328-ef47-4813-b2ac-86f67c5e3497",
   "metadata": {},
   "outputs": [
    {
     "name": "stdout",
     "output_type": "stream",
     "text": [
      "The DataFrame has 33000 individual elements.\n"
     ]
    }
   ],
   "source": [
    "# Q9 - How many individual elements are in the DataFrame?\n",
    "num_elements = df.size\n",
    "print(f\"The DataFrame has {num_elements} individual elements.\")"
   ]
  },
  {
   "cell_type": "code",
   "execution_count": 34,
   "id": "8fe45209-ab78-4a5a-9d7f-74a3fca96ae9",
   "metadata": {},
   "outputs": [
    {
     "name": "stdout",
     "output_type": "stream",
     "text": [
      "The DataFrame has 3000 rows and 11 columns.\n"
     ]
    }
   ],
   "source": [
    "# Q10 - Get the number of rows and columns of dataframe\n",
    "num_rows, num_cols = df.shape\n",
    "\n",
    "# Print the results\n",
    "print(f\"The DataFrame has {num_rows} rows and {num_cols} columns.\")"
   ]
  },
  {
   "cell_type": "code",
   "execution_count": 73,
   "id": "0d402451-dca9-4d9e-8f79-a3a8af81a8f2",
   "metadata": {},
   "outputs": [
    {
     "name": "stdout",
     "output_type": "stream",
     "text": [
      "              wage          age\n",
      "count  3000.000000  3000.000000\n",
      "mean    111.703608    42.414667\n",
      "std      41.728595    11.542406\n",
      "min      20.085537    18.000000\n",
      "25%      85.383940    33.750000\n",
      "50%     104.921507    42.000000\n",
      "75%     128.680488    51.000000\n",
      "max     318.342430    80.000000\n"
     ]
    }
   ],
   "source": [
    "# Q11 - Select the wage and age columns and calculate descriptive statistics\n",
    "wage_age_stats = df[['wage', 'age']].describe()\n",
    "\n",
    "# Display the results\n",
    "print (wage_age_stats)"
   ]
  },
  {
   "cell_type": "code",
   "execution_count": 36,
   "id": "798c0351-e0a2-4ceb-bb21-8bf9f0121bfe",
   "metadata": {},
   "outputs": [
    {
     "name": "stdout",
     "output_type": "stream",
     "text": [
      "            wage                                                           \\\n",
      "           count        mean        std        min        25%         50%   \n",
      "race                                                                        \n",
      "1. White  2480.0  112.563666  41.733830  20.085537  86.695155  106.348256   \n",
      "2. Black   293.0  101.601177  37.162486  23.274704  81.283253   94.072715   \n",
      "3. Asian   190.0  120.288288  46.422514  34.607418  87.981033  115.375039   \n",
      "4. Other    37.0   89.973326  29.153530  38.223583  71.319639   81.283253   \n",
      "\n",
      "                                     age                                     \\\n",
      "                 75%         max   count       mean        std   min    25%   \n",
      "race                                                                          \n",
      "1. White  130.042934  314.329336  2480.0  42.394758  11.365655  18.0  34.00   \n",
      "2. Black  117.146817  318.342430   293.0  43.563140  13.012913  18.0  33.00   \n",
      "3. Asian  144.828129  299.262977   190.0  41.821053  11.218823  22.0  32.25   \n",
      "4. Other  104.921507  169.528538    37.0  37.702703  11.553895  21.0  28.00   \n",
      "\n",
      "                            \n",
      "           50%   75%   max  \n",
      "race                        \n",
      "1. White  42.0  51.0  80.0  \n",
      "2. Black  44.0  52.0  75.0  \n",
      "3. Asian  40.0  50.0  76.0  \n",
      "4. Other  39.0  47.0  65.0  \n"
     ]
    }
   ],
   "source": [
    "# Q12 - Group by 'race' and calculate descriptive statistics for 'wage' and 'age'\n",
    "race_stats = df.groupby('race')[['wage', 'age']].describe()\n",
    "\n",
    "# Display the results\n",
    "print(race_stats)"
   ]
  },
  {
   "cell_type": "code",
   "execution_count": 87,
   "id": "e99d2761-4140-4880-a61a-3a2671a56546",
   "metadata": {},
   "outputs": [
    {
     "name": "stdout",
     "output_type": "stream",
     "text": [
      "Median Wage values: 104.921506533664\n",
      "\n",
      "Mean Wage values: 111.70360820174345\n"
     ]
    }
   ],
   "source": [
    "\"\"\"Q13-\n",
    "Mean is the average wage calculated by summing all wage values and dividing by the total number of wages. It gives you an idea of the general wage \n",
    "level in your dataset. A higher mean indicates higher overall wages, while a lower mean indicates lower overall wages.\n",
    "\n",
    "Median is the middle value when all wages are sorted in ascending order. Half of the wages will be above the median, and half will be below.\n",
    "\n",
    "In our example the Mean and Median are similar which may suggest a relatively symmetrical distribution of wages.\n",
    "\n",
    "By comparing the mean and median, you can get a better understanding of the distribution and typical wage values in your dataset.\n",
    "\"\"\"\n",
    "# Calculate the median and mean for the 'wage' column\n",
    "median_values = df['wage'].median()\n",
    "mean_values = df['wage'].mean()\n",
    "\n",
    "# Print the results\n",
    "print(\"Median Wage values:\", median_values)\n",
    "print(\"\\nMean Wage values:\", mean_values)"
   ]
  },
  {
   "cell_type": "code",
   "execution_count": 90,
   "id": "70655aa5-56d1-46df-8bbf-31cf2711fd68",
   "metadata": {},
   "outputs": [
    {
     "name": "stdout",
     "output_type": "stream",
     "text": [
      "      age        wage\n",
      "206    63  318.342430\n",
      "1229   46  318.342430\n",
      "503    38  314.329336\n",
      "1293   38  311.934569\n",
      "2712   58  309.571771\n",
      "...   ...         ...\n",
      "1829   38   23.952944\n",
      "2670   27   23.274704\n",
      "499    52   22.962401\n",
      "388    33   20.934378\n",
      "2191   43   20.085537\n",
      "\n",
      "[3000 rows x 2 columns]\n"
     ]
    }
   ],
   "source": [
    "# Q14 - Select the columns and display their data types\n",
    "column_age_wage = df[['age', 'wage']]\n",
    "print(column_age_wage.sort_values(by='wage',ascending=False))\n"
   ]
  },
  {
   "cell_type": "code",
   "execution_count": 38,
   "id": "33c8ddde-7d76-447d-8c36-45e682d79ec8",
   "metadata": {},
   "outputs": [
    {
     "name": "stdout",
     "output_type": "stream",
     "text": [
      "The correlation between age and wage is: 0.1956372015635886\n"
     ]
    }
   ],
   "source": [
    "# Q15 - Calculate the correlation between 'age' and 'wage'\n",
    "correlation = df['age'].corr(df['wage'])\n",
    "\n",
    "# Print the correlation coefficient\n",
    "print(f\"The correlation between age and wage is: {correlation}\")"
   ]
  },
  {
   "cell_type": "code",
   "execution_count": 39,
   "id": "2cd64f5d-25d4-4e8b-90e8-0f8249fd60ee",
   "metadata": {},
   "outputs": [
    {
     "name": "stdout",
     "output_type": "stream",
     "text": [
      "206     318.342430\n",
      "1229    318.342430\n",
      "503     314.329336\n",
      "1293    311.934569\n",
      "2712    309.571771\n",
      "1112    309.571771\n",
      "2893    299.262977\n",
      "2925    295.991250\n",
      "489     284.524741\n",
      "347     281.745971\n",
      "Name: wage, dtype: float64\n"
     ]
    }
   ],
   "source": [
    "# Q16 - Sort by wage in descending order and select the top 10\n",
    "top_10_salaries = df.sort_values(by='wage', ascending=False).head(10)['wage']\n",
    "\n",
    "# Display the results\n",
    "print(top_10_salaries)"
   ]
  },
  {
   "cell_type": "code",
   "execution_count": 40,
   "id": "9ac7ccb5-cef3-4a56-a619-15762c83efb3",
   "metadata": {},
   "outputs": [
    {
     "name": "stdout",
     "output_type": "stream",
     "text": [
      "race\n",
      "1. White    2480\n",
      "2. Black     293\n",
      "3. Asian     190\n",
      "4. Other      37\n",
      "Name: count, dtype: int64\n"
     ]
    }
   ],
   "source": [
    "# Q17 - Calculate and display the counts of each race\n",
    "race_counts = df['race'].value_counts()\n",
    "print(race_counts)"
   ]
  },
  {
   "cell_type": "code",
   "execution_count": 41,
   "id": "a4729377-7363-48be-8791-ec4b437f6075",
   "metadata": {},
   "outputs": [
    {
     "name": "stdout",
     "output_type": "stream",
     "text": [
      "race\n",
      "1. White    0.826667\n",
      "2. Black    0.097667\n",
      "3. Asian    0.063333\n",
      "4. Other    0.012333\n",
      "Name: proportion, dtype: float64\n"
     ]
    }
   ],
   "source": [
    "# Q18 - Calculate and display the proportion of each race - it has to equal 1\n",
    "race_proportions = df['race'].value_counts(normalize=True)\n",
    "print(race_proportions)\n"
   ]
  },
  {
   "cell_type": "code",
   "execution_count": 67,
   "id": "091ec1be-1b29-4df1-a393-6919183b0bc1",
   "metadata": {},
   "outputs": [
    {
     "name": "stdout",
     "output_type": "stream",
     "text": [
      "region\n",
      "2. Middle Atlantic    1.0\n",
      "Name: proportion, dtype: float64\n"
     ]
    },
    {
     "data": {
      "image/png": "[encoded data removed]",
      "text/plain": [
       "<Figure size 800x600 with 1 Axes>"
      ]
     },
     "metadata": {},
     "output_type": "display_data"
    }
   ],
   "source": [
    "import matplotlib.pyplot as plt\n",
    "\n",
    "# Calculate regional proportions\n",
    "region_proportions = df['region'].value_counts(normalize=True)\n",
    "print(region_proportions)\n",
    "\n",
    "# Create the bar plot\n",
    "plt.figure(figsize=(8, 6))  # Adjust figure size if needed\n",
    "region_proportions.plot(kind='bar', color='skyblue')\n",
    "plt.title('Regional Proportionality')\n",
    "plt.xlabel('Region')\n",
    "plt.ylabel('Proportion')\n",
    "plt.xticks(rotation=45, ha='right')  # Rotate x-axis labels for better readability\n",
    "plt.tight_layout()  # Adjust layout to prevent labels from overlapping\n",
    "plt.show()"
   ]
  },
  {
   "cell_type": "code",
   "execution_count": null,
   "id": "6a25fb5a-b824-4bf5-8aca-7284e5e90619",
   "metadata": {},
   "outputs": [],
   "source": []
  }
 ],
 "metadata": {
  "kernelspec": {
   "display_name": "Python 3 (ipykernel)",
   "language": "python",
   "name": "python3"
  },
  "language_info": {
   "codemirror_mode": {
    "name": "ipython",
    "version": 3
   },
   "file_extension": ".py",
   "mimetype": "text/x-python",
   "name": "python",
   "nbconvert_exporter": "python",
   "pygments_lexer": "ipython3",
   "version": "3.12.7"
  }
 },
 "nbformat": 4,
 "nbformat_minor": 5
}
